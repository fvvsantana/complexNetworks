{
 "cells": [
  {
   "cell_type": "markdown",
   "metadata": {},
   "source": [
    "# Exercise 9\n",
    " **Note:** because of the Astrophysics' network taking too long to run, we didn't include this network in the computation."
   ]
  },
  {
   "cell_type": "markdown",
   "metadata": {},
   "source": [
    "Import the libraries that we'll use"
   ]
  },
  {
   "cell_type": "code",
   "execution_count": 1,
   "metadata": {},
   "outputs": [],
   "source": [
    "import networkx as nx\n",
    "import matplotlib.pyplot as plt\n",
    "import numpy as np\n",
    "import math\n",
    "from scipy.linalg import expm\n",
    "import pandas as pd\n",
    "import time\n",
    "from IPython.display import display, HTML, display_pretty\n",
    "#import warnings\n",
    "#warnings.simplefilter(\"ignore\")\n",
    "\n",
    "# A flag to use timer, just to prevent your system to freeze while running heavy processes\n",
    "useTimer = False #this feature is disabled"
   ]
  },
  {
   "cell_type": "markdown",
   "metadata": {},
   "source": [
    "Add some functions to help us"
   ]
  },
  {
   "cell_type": "code",
   "execution_count": 2,
   "metadata": {},
   "outputs": [],
   "source": [
    "# Calculate the n-th moment of a probability distribution\n",
    "def nth_moment_of_probability_distribution(xList, pxList, n):\n",
    "    return expected_value([x**n for x in xList], pxList)\n",
    "\n",
    "# Calculate the expected value of a random variable\n",
    "def expected_value(xList, pxList):\n",
    "    return sum([xList[i]*pxList[i] for i in range(len(xList))])\n",
    "\n",
    "# Calculate the shannon entropy of an array of probabilities\n",
    "def shannon_entropy(pxList):\n",
    "    H = 0\n",
    "    for p in pxList:\n",
    "        if(p > 0):\n",
    "            H = H - p*math.log(p, 2)\n",
    "    return H"
   ]
  },
  {
   "cell_type": "markdown",
   "metadata": {},
   "source": [
    "Create a class to encapsulate and do the graph operations"
   ]
  },
  {
   "cell_type": "code",
   "execution_count": 3,
   "metadata": {},
   "outputs": [],
   "source": [
    "class Network:\n",
    "\n",
    "    def __init__(self, name=None):\n",
    "        self.name = name\n",
    "\n",
    "    # Read graph from file and apply transformations\n",
    "    def read_graph(self, inputFile):\n",
    "        # To read the network from a file, we use the command read_edgelist.\n",
    "        G= nx.read_edgelist(inputFile, comments='%', nodetype=int, data=(('weight',float),))\n",
    "        # We transfor the network into the undirected version.\n",
    "        G = G.to_undirected()\n",
    "        # Here we consider only the largest component.\n",
    "        Gcc=sorted(nx.connected_component_subgraphs(G), key = len, reverse=True)\n",
    "        G=Gcc[0]\n",
    "        # Sometimes the node labels are not in the sequential order or strings are used. To facilitate our implementation, let us convert the labels to integers starting with the index zero, because Python uses 0-based indexing.\n",
    "        G = nx.convert_node_labels_to_integers(G, first_label=0)\n",
    "        # Save graph to the network\n",
    "        self.graph = G\n",
    "        return self.graph\n",
    "\n",
    "    # Store and return the transitivity of the graph\n",
    "    def transitivity(self):\n",
    "        return nx.transitivity(self.graph)\n",
    "\n",
    "    # Store and return the average clustering coefficient of the graph\n",
    "    def average_clustering(self):\n",
    "        return nx.average_clustering(self.graph)\n",
    "\n",
    "    # Get number of edges of the graph\n",
    "    def number_of_edges(self):\n",
    "        return self.graph.number_of_edges()\n",
    "\n",
    "    # Get number of nodes of the graph\n",
    "    def number_of_nodes(self):\n",
    "        return len(self.graph)\n",
    "\n",
    "    # Calculate average node degree\n",
    "    def average_node_degree(self):\n",
    "        # Get the degrees\n",
    "        degrees = [d for n,d in self.graph.degree()]\n",
    "        # Calculate the average\n",
    "        return sum(degrees)/len(degrees)\n",
    "\n",
    "\n",
    "    # Calculate the nth moment of degree distribution\n",
    "    def nth_moment_of_degree_distribution(self, n):\n",
    "        kvalues, pk = self.degree_distribution()\n",
    "        return nth_moment_of_probability_distribution(kvalues, pk, n)\n",
    "\n",
    "    # Calculate average shortest path length\n",
    "    def average_shortest_path_length(self, weight=None):\n",
    "        return nx.average_shortest_path_length(self.graph, weight)\n",
    "\n",
    "    # Calculate diameter\n",
    "    def diameter(self, e=None):\n",
    "        return nx.diameter(self.graph, e)\n",
    "\n",
    "    # Calculate degree distribution\n",
    "    def degree_distribution(self):\n",
    "        vk = dict(self.graph.degree())\n",
    "        vk = list(vk.values())  # we get only the degree values\n",
    "        vk = np.array(vk)\n",
    "        maxk = np.max(vk)\n",
    "        mink = np.min(vk)\n",
    "        kvalues= np.arange(0,maxk+1) # possible values of k\n",
    "        Pk = np.zeros(maxk+1) # P(k)\n",
    "        for k in vk:\n",
    "            Pk[k] = Pk[k] + 1\n",
    "        Pk = Pk/sum(Pk) # the sum of the elements of P(k) must to be equal to one\n",
    "        return (kvalues, Pk)\n",
    "\n",
    "\n",
    "    # Plot degree distribution\n",
    "    def plot_degree_distribution(self):\n",
    "        degree_distribution = self.degree_distribution()\n",
    "        fig = plt.subplot(1,1,1)\n",
    "        fig.set_xscale('log')\n",
    "        fig.set_yscale('log')\n",
    "        plt.suptitle(self.name, fontsize=16)\n",
    "        plt.plot(degree_distribution[0], degree_distribution[1],'bo')\n",
    "        plt.xlabel(\"k\", fontsize=20)\n",
    "        plt.ylabel(\"P(k)\", fontsize=20)\n",
    "        plt.title('Degree distribution', fontsize=20)\n",
    "        plt.show(block=True)\n",
    "        plt.clf()\n",
    "\n",
    "    # Plot the graph\n",
    "    def plot_graph(self):\n",
    "        plt.figure(figsize=(10,10))\n",
    "        pos=nx.spring_layout(self.graph)\n",
    "        nx.draw(self.graph, with_labels = True, pos = pos)\n",
    "        plt.show(block=True)\n",
    "        plt.clf()"
   ]
  },
  {
   "cell_type": "markdown",
   "metadata": {},
   "source": [
    "Now we'll calculate the measures for each network. Then we store it in a dict to present it at the end."
   ]
  },
  {
   "cell_type": "code",
   "execution_count": 4,
   "metadata": {},
   "outputs": [],
   "source": [
    "def main():\n",
    "\n",
    "    # This line is a strange hack to prevent jupyter from sending a warning called:\n",
    "    # [IPKernelApp] WARNING | WARNING: attempted to send message from fork\n",
    "    # On github there is a similar issue still opened: <https://github.com/tqdm/tqdm/issues/485>\n",
    "    print(' ', end='', flush=True)\n",
    "\n",
    "    # List of files to open\n",
    "    networkFiles = [\n",
    "                    #'../data/out.ca-AstroPh',\n",
    "                    '../data/out.ego-facebook',\n",
    "                    '../data/out.petster-friendships-hamster-uniq',\n",
    "                    '../data/out.subelj_euroroad_euroroad'\n",
    "    ]\n",
    "\n",
    "    # List of names of the networks\n",
    "    networkNames = [\n",
    "                    #'ArXiv’s Astrophysics',\n",
    "                    'Facebook user-user friendships',\n",
    "                    'Hamsterster friendships',\n",
    "                    'E-road network'\n",
    "    ]\n",
    "\n",
    "    # Dict with data to show\n",
    "    data = {'Network':[],\n",
    "            'Nodes':[], \n",
    "            'Average degree':[],\n",
    "            'Second moment of degree distribution':[],\n",
    "            'Average clustering coefficient':[],\n",
    "            'Transitivity':[],\n",
    "            'Average shortest path length':[],\n",
    "            'Diameter':[],\n",
    "            }\n",
    "\n",
    "    # For each network\n",
    "    for i in range(len(networkFiles)):\n",
    "        # Load network\n",
    "        network = Network(name=networkNames[i])\n",
    "        network.read_graph(networkFiles[i])\n",
    "\n",
    "        # Let us verify the number of nodes and edges of the network.\n",
    "        #print('Number of nodes:', network.number_of_nodes())\n",
    "        #print('Number of edges:', network.number_of_edges())\n",
    "\n",
    "        # Append network name\n",
    "        data['Network'].append(networkNames[i])\n",
    "\n",
    "        # Get number of nodes\n",
    "        data['Nodes'].append(network.number_of_nodes())\n",
    "\n",
    "        # Get number of nodes\n",
    "        data['Average degree'].append(network.average_node_degree())\n",
    "\n",
    "        # Get Second moment of degree distribution\n",
    "        data['Second moment of degree distribution'].append(network.nth_moment_of_degree_distribution(2))\n",
    "\n",
    "        # Calculate Average Clustering Cofficient\n",
    "        data['Average clustering coefficient'].append(network.average_clustering())\n",
    "\n",
    "        # Calculate transitivity\n",
    "        data['Transitivity'].append(network.transitivity())\n",
    "\n",
    "        # Calculate average shortest path length\n",
    "        data['Average shortest path length'].append(network.average_shortest_path_length())\n",
    "\n",
    "        # Calculate diameter\n",
    "        data['Diameter'].append(network.diameter())\n",
    "\n",
    "    # Display DataFrame\n",
    "    df = pd.DataFrame(data)\n",
    "    display(df)"
   ]
  },
  {
   "cell_type": "markdown",
   "metadata": {},
   "source": [
    "Here we create a process to run the main function. The advantage of using this strategy, instead of directly invoking main(), is that it gives us more control to stop the program.\n",
    " If we set the useTimer variable at the beginning of the program to True, the timer will stop the main process after 60 seconds. It's useful when we hit Ctrl+C in the terminal and the program refuses to stop.\n",
    " Also, it's important to catch the KeyboardInterrupt exception, that is raised when we hit Ctrl+C.\n",
    " By default, Ctrl+C would kill our program and the process that we've created would still continue to run.\n",
    " When we catch the exception, we also terminate the process of the function main. This way, Ctrl+C works again."
   ]
  },
  {
   "cell_type": "code",
   "execution_count": 5,
   "metadata": {},
   "outputs": [
    {
     "name": "stdout",
     "output_type": "stream",
     "text": [
      " "
     ]
    },
    {
     "data": {
      "text/html": [
       "<div>\n",
       "<style scoped>\n",
       "    .dataframe tbody tr th:only-of-type {\n",
       "        vertical-align: middle;\n",
       "    }\n",
       "\n",
       "    .dataframe tbody tr th {\n",
       "        vertical-align: top;\n",
       "    }\n",
       "\n",
       "    .dataframe thead th {\n",
       "        text-align: right;\n",
       "    }\n",
       "</style>\n",
       "<table border=\"1\" class=\"dataframe\">\n",
       "  <thead>\n",
       "    <tr style=\"text-align: right;\">\n",
       "      <th></th>\n",
       "      <th>Network</th>\n",
       "      <th>Nodes</th>\n",
       "      <th>Average degree</th>\n",
       "      <th>Second moment of degree distribution</th>\n",
       "      <th>Average clustering coefficient</th>\n",
       "      <th>Transitivity</th>\n",
       "      <th>Average shortest path length</th>\n",
       "      <th>Diameter</th>\n",
       "    </tr>\n",
       "  </thead>\n",
       "  <tbody>\n",
       "    <tr>\n",
       "      <td>0</td>\n",
       "      <td>Facebook user-user friendships</td>\n",
       "      <td>2888</td>\n",
       "      <td>2.064404</td>\n",
       "      <td>528.131579</td>\n",
       "      <td>0.027247</td>\n",
       "      <td>0.000359</td>\n",
       "      <td>3.867421</td>\n",
       "      <td>9</td>\n",
       "    </tr>\n",
       "    <tr>\n",
       "      <td>1</td>\n",
       "      <td>Hamsterster friendships</td>\n",
       "      <td>1788</td>\n",
       "      <td>13.955257</td>\n",
       "      <td>635.606264</td>\n",
       "      <td>0.143305</td>\n",
       "      <td>0.090369</td>\n",
       "      <td>3.452640</td>\n",
       "      <td>14</td>\n",
       "    </tr>\n",
       "    <tr>\n",
       "      <td>2</td>\n",
       "      <td>E-road network</td>\n",
       "      <td>1039</td>\n",
       "      <td>2.512031</td>\n",
       "      <td>7.753609</td>\n",
       "      <td>0.018906</td>\n",
       "      <td>0.035255</td>\n",
       "      <td>18.395146</td>\n",
       "      <td>62</td>\n",
       "    </tr>\n",
       "  </tbody>\n",
       "</table>\n",
       "</div>"
      ],
      "text/plain": [
       "                          Network  Nodes  Average degree  \\\n",
       "0  Facebook user-user friendships   2888        2.064404   \n",
       "1         Hamsterster friendships   1788       13.955257   \n",
       "2                  E-road network   1039        2.512031   \n",
       "\n",
       "   Second moment of degree distribution  Average clustering coefficient  \\\n",
       "0                            528.131579                        0.027247   \n",
       "1                            635.606264                        0.143305   \n",
       "2                              7.753609                        0.018906   \n",
       "\n",
       "   Transitivity  Average shortest path length  Diameter  \n",
       "0      0.000359                      3.867421         9  \n",
       "1      0.090369                      3.452640        14  \n",
       "2      0.035255                     18.395146        62  "
      ]
     },
     "metadata": {},
     "output_type": "display_data"
    }
   ],
   "source": [
    "from multiprocessing import Process\n",
    "from threading import Timer\n",
    "if __name__ == \"__main__\":\n",
    "    # Create the main process\n",
    "    proc = Process(target=main)\n",
    "\n",
    "    # Use timer if set\n",
    "    if(useTimer):\n",
    "        #declare timer, it gets the time in seconds\n",
    "        timer = Timer(300, proc.terminate)\n",
    "        timer.start()\n",
    "\n",
    "    try:\n",
    "        # Start process\n",
    "        proc.start()\n",
    "\n",
    "        # Block until process terminate\n",
    "        proc.join()\n",
    "    except KeyboardInterrupt:\n",
    "        proc.terminate()\n",
    "\n",
    "    # If process ends in time, cancel timer\n",
    "    if(useTimer):\n",
    "        timer.cancel()"
   ]
  },
  {
   "cell_type": "markdown",
   "metadata": {},
   "source": [
    "When we run this code, we'll see that the average clustering coefficient and the transitivity diverge in some networks. As stated on Wikipedia:"
   ]
  },
  {
   "cell_type": "markdown",
   "metadata": {},
   "source": [
    "*It is worth noting that this metric (average clustering coefficient) places more weight on the low degree nodes, while the transitivity ratio places more weight on the high degree nodes. In fact, a weighted average where each local clustering score is weighted by $k_{i}(k_{i}-1)$ is identical to the global clustering coefficient* - [Wikipedia](https://en.wikipedia.org/wiki/Clustering_coefficient)"
   ]
  },
  {
   "cell_type": "markdown",
   "metadata": {},
   "source": [
    "To understand the effect of this in our networks we also plotted the degree distribution of the networks. The Facebook network, for example, has a great amount of nodes with low degree and a small amount of nodes with high degree. The low degree nodes are well clustered (like normal people in their social cycle), so the weight of these low degree nodes makes the average clustering coefficient higher than the transitivity ratio. Also, the nodes with high degree are connected with groups that are not well connected among themselves, so the clustering of high degree nodes is low."
   ]
  },
  {
   "cell_type": "markdown",
   "metadata": {},
   "source": [
    "The opposite happens in the E-road network, for example, where the discrepancy among the number of high-degree nodes and the number of low-degree nodes is not as big. In this case, the high degree nodes have more impact on the transitivity ratio than on the average clustering coefficient."
   ]
  },
  {
   "cell_type": "markdown",
   "metadata": {},
   "source": [
    "In spite of the Facebook and Hamsterster's friendships network having more nodes than the E-road network, the diameter of these networs is considerably smaller than the E-road network. Also the Average shortest path length in the E-road is greater than the others."
   ]
  },
  {
   "cell_type": "markdown",
   "metadata": {},
   "source": [
    "Another interesting result is the discrepance between the Average degree and the Second moment of the degree distribution of the Facebook network. In a non-scale-free network, we can expect that the value of $(AverageDegree)^2$ is in the same order of the **Second moment of the degree distribution**. But in a scale-free network like the Facebook's network, the value of the **Second moment of the degree distribution** is way bigger than the $(AverageDegree)^2$."
   ]
  }
 ],
 "metadata": {
  "language_info": {
   "codemirror_mode": {
    "name": "ipython",
    "version": 3
   },
   "file_extension": ".py",
   "mimetype": "text/x-python",
   "name": "python",
   "nbconvert_exporter": "python",
   "pygments_lexer": "ipython3",
   "version": "3.6.8"
  }
 },
 "nbformat": 4,
 "nbformat_minor": 2
}
