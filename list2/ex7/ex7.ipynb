{
 "cells": [
  {
   "cell_type": "markdown",
   "metadata": {},
   "source": [
    "# Exercise 7\n",
    " **Note:** Due to compatibility problems on running Netcarto and Informap community detection algorithms, we didn't use these methods on this exercise"
   ]
  },
  {
   "cell_type": "markdown",
   "metadata": {},
   "source": [
    "Import stuff we'll need"
   ]
  },
  {
   "cell_type": "code",
   "execution_count": null,
   "metadata": {},
   "outputs": [],
   "source": [
    "import numpy as np\n",
    "import matplotlib.pyplot as plt\n",
    "import networkx as nx\n",
    "from networkx.algorithms import community\n",
    "from networkx.algorithms.community import LFR_benchmark_graph\n",
    "from community import community_louvain\n",
    "from networkx.algorithms.community import greedy_modularity_communities\n",
    "from networkx.algorithms.community import label_propagation_communities\n",
    "from networkx.algorithms.community import asyn_lpa_communities\n",
    "from sklearn.metrics import normalized_mutual_info_score\n",
    "from sklearn.metrics import mutual_info_score\n",
    "from sklearn.metrics import adjusted_mutual_info_score\n",
    "import os\n",
    "np.random.seed(50)\n",
    "\n",
    "# Generate a graph for girvan newman benchmark\n",
    "def benchmark_girvan_newman():\n",
    "    N = 128\n",
    "    tau1 = 3\n",
    "    tau2 = 1.5\n",
    "    mu = 0.04\n",
    "    k =16\n",
    "    minc = 32\n",
    "    maxc = 32\n",
    "    return LFR_benchmark_graph(n = N, tau1 = tau1, tau2 = tau2, mu = mu, min_degree = k,\n",
    "                            max_degree = k, min_community=minc, max_community = maxc, seed = 10)"
   ]
  },
  {
   "cell_type": "markdown",
   "metadata": {},
   "source": [
    "Make community detection functions"
   ]
  },
  {
   "cell_type": "code",
   "execution_count": null,
   "metadata": {},
   "outputs": [],
   "source": [
    "# Louvain's community detection method\n",
    "def detect_communities_louvain(G):\n",
    "    partition = community_louvain.best_partition(G)\n",
    "    communities = list()\n",
    "    for com in set(partition.values()) :\n",
    "        list_nodes = [nodes for nodes in partition.keys() if partition[nodes] == com]\n",
    "        communities.append(sorted(list_nodes))\n",
    "    return sorted(communities)\n",
    "\n",
    "# Girvan Newman's community detection method\n",
    "def detect_communities_girvan_newman(G):\n",
    "    communities = community.girvan_newman(G)\n",
    "    return sorted(sorted(c) for c in next(communities))\n",
    "\n",
    "# Fast Greedy community detection method\n",
    "def detect_communities_greedy(G):\n",
    "    communities = greedy_modularity_communities(G)\n",
    "    return sorted(map(sorted, communities))\n",
    "\n",
    "# Label propagation community detection method\n",
    "def detect_communities_label_propagation(G):\n",
    "    communities = list()\n",
    "    #for c in asyn_lpa_communities(G):\n",
    "    for c in label_propagation_communities(G):\n",
    "        communities.append(sorted(c))\n",
    "    return sorted(communities)"
   ]
  },
  {
   "cell_type": "markdown",
   "metadata": {},
   "source": [
    "Make a function to plot the graph with its communities"
   ]
  },
  {
   "cell_type": "code",
   "execution_count": null,
   "metadata": {},
   "outputs": [],
   "source": [
    "# Plot graph with communities, receives a list of communities, where each community is a list of nodes (ints)\n",
    "def show_communities(G, communities, name='title'):\n",
    "    pos=nx.spring_layout(G)\n",
    "    colors = ['b', 'g', 'r', 'c', 'm', 'y', 'k', 'w']\n",
    "    #plt.figure()\n",
    "    plt.title(name, fontsize=20)\n",
    "    aux = 0\n",
    "    for community in communities:\n",
    "        nx.draw_networkx_nodes(G, pos, community, node_size = 50, node_color = colors[aux])\n",
    "        aux = aux + 1\n",
    "    nx.draw_networkx_edges(G, pos, alpha=0.5)\n",
    "    plt.show(block=True)"
   ]
  },
  {
   "cell_type": "markdown",
   "metadata": {},
   "source": [
    "Let's use our functions"
   ]
  },
  {
   "cell_type": "code",
   "execution_count": null,
   "metadata": {},
   "outputs": [],
   "source": [
    "def main():\n",
    "    #G= G=nx.read_edgelist(\"data/zachary.txt\", nodetype=int)\n",
    "    G = nx.karate_club_graph()\n",
    "    G = G.to_undirected()\n",
    "    G = nx.convert_node_labels_to_integers(G, first_label=0)\n",
    "    #pos=nx.fruchterman_reingold_layout(G)\n",
    "    #nx.draw_networkx(G, pos=pos, node_color = 'b')\n",
    "    #plt.show(True)\n",
    "\n",
    "    # List of method names\n",
    "    methodNames = [\n",
    "        'Louvain',\n",
    "        'Girvan Newman',\n",
    "        'Fast Greedy',\n",
    "        'Label Propagation'\n",
    "    ]\n",
    "\n",
    "    # List of community detection methods\n",
    "    methods = [\n",
    "        detect_communities_louvain,\n",
    "        detect_communities_girvan_newman,\n",
    "        detect_communities_greedy,\n",
    "        detect_communities_label_propagation\n",
    "    ]\n",
    "    # For each method in the list\n",
    "    for i in range(len(methods)):\n",
    "        # Apply community detection method on graph\n",
    "        result = methods[i](G)\n",
    "        # Plot graph with its communities and name it\n",
    "        #show_communities(G, result, name=method.__name__[19:])\n",
    "        show_communities(G, result, name=methodNames[i])\n",
    "\n",
    "if __name__ == \"__main__\":\n",
    "    main()"
   ]
  }
 ],
 "metadata": {},
 "nbformat": 4,
 "nbformat_minor": 2
}
