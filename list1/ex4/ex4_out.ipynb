{
 "cells": [
  {
   "cell_type": "markdown",
   "metadata": {},
   "source": [
    "# Exercise 4 -a)\n",
    " ## Import the libraries that we'll use"
   ]
  },
  {
   "cell_type": "code",
   "execution_count": 1,
   "metadata": {},
   "outputs": [],
   "source": [
    "import networkx as nx\n",
    "import matplotlib.pyplot as plt\n",
    "import numpy as np\n",
    "import math\n",
    "from numpy.linalg import matrix_power"
   ]
  },
  {
   "cell_type": "markdown",
   "metadata": {},
   "source": [
    "## Create a graph as specified in the exercise"
   ]
  },
  {
   "cell_type": "code",
   "execution_count": 2,
   "metadata": {},
   "outputs": [],
   "source": [
    "G = nx.Graph()\n",
    "G.add_edge(0,1,weight=1)\n",
    "G.add_edge(0,3,weight=1)\n",
    "G.add_edge(1,2,weight=1)\n",
    "G.add_edge(1,3,weight=1)\n",
    "G.add_edge(2,3,weight=1)\n",
    "G.add_edge(2,4,weight=1)\n",
    "G.add_edge(2,5,weight=1)\n",
    "G.add_edge(2,6,weight=1)\n",
    "G.add_edge(5,6,weight=1)\n",
    "G = nx.to_undirected(G)\n",
    "G = nx.convert_node_labels_to_integers(G, first_label=0)"
   ]
  },
  {
   "cell_type": "markdown",
   "metadata": {},
   "source": [
    "## Plot the graph"
   ]
  },
  {
   "cell_type": "code",
   "execution_count": 3,
   "metadata": {},
   "outputs": [
    {
     "name": "stderr",
     "output_type": "stream",
     "text": [
      "/home/flaviokc/.local/lib/python3.6/site-packages/networkx/drawing/nx_pylab.py:579: MatplotlibDeprecationWarning: \n",
      "The iterable function was deprecated in Matplotlib 3.1 and will be removed in 3.3. Use np.iterable instead.\n",
      "  if not cb.iterable(width):\n"
     ]
    },
    {
     "data": {
      "image/png": "[encoded data removed]",
      "text/plain": [
       "<Figure size 432x288 with 1 Axes>"
      ]
     },
     "metadata": {},
     "output_type": "display_data"
    },
    {
     "data": {
      "text/plain": [
       "<Figure size 432x288 with 0 Axes>"
      ]
     },
     "metadata": {},
     "output_type": "display_data"
    }
   ],
   "source": [
    "# Return a dict keyed by node with its coordinates\n",
    "pos=nx.spring_layout(G)\n",
    "# Draw the graph using matplot in the background\n",
    "nx.draw_networkx(G, with_labels=True, node_color='r', edge_color='b', \n",
    "        node_size=500, font_size=16, pos=pos, width=6)   # default spring_layout\n",
    "# The parameter block=True blocks the execution until the user closes it\n",
    "plt.show(block=False)\n",
    "plt.clf()"
   ]
  },
  {
   "cell_type": "markdown",
   "metadata": {},
   "source": [
    "## Adjacency matrix and transition probability matrix"
   ]
  },
  {
   "cell_type": "code",
   "execution_count": 4,
   "metadata": {},
   "outputs": [
    {
     "name": "stdout",
     "output_type": "stream",
     "text": [
      "\n",
      "Adjacency Matrix \n",
      " [[0 1 1 0 0 0 0]\n",
      " [1 0 1 1 0 0 0]\n",
      " [1 1 0 1 0 0 0]\n",
      " [0 1 1 0 1 1 1]\n",
      " [0 0 0 1 0 0 0]\n",
      " [0 0 0 1 0 0 1]\n",
      " [0 0 0 1 0 1 0]]\n",
      "\n",
      "Transition probability matrix Pij \n",
      " [[0.         0.5        0.5        0.         0.         0.\n",
      "  0.        ]\n",
      " [0.33333333 0.         0.33333333 0.33333333 0.         0.\n",
      "  0.        ]\n",
      " [0.33333333 0.33333333 0.         0.33333333 0.         0.\n",
      "  0.        ]\n",
      " [0.         0.2        0.2        0.         0.2        0.2\n",
      "  0.2       ]\n",
      " [0.         0.         0.         1.         0.         0.\n",
      "  0.        ]\n",
      " [0.         0.         0.         0.5        0.         0.\n",
      "  0.5       ]\n",
      " [0.         0.         0.         0.5        0.         0.5\n",
      "  0.        ]]\n"
     ]
    }
   ],
   "source": [
    "A = nx.adjacency_matrix(G)\n",
    "\n",
    "print('\\nAdjacency Matrix \\n',A.todense())\n",
    "A = A.todense()\n",
    "nodes = nx.number_of_nodes(G)\n",
    "Pij = [[0 for x in range(nodes)] for y in range(nodes)] \n",
    "for i in range(nodes):\n",
    "    degree = nx.degree(G, nbunch=i)\n",
    "    for j in range(nodes):\n",
    "        Pij[i][j] = A[i,j]/degree\n",
    "Pij = np.array(Pij)\n",
    "\n",
    "print('\\nTransition probability matrix Pij \\n', Pij)"
   ]
  },
  {
   "cell_type": "markdown",
   "metadata": {},
   "source": [
    "## P^n, if n = 100"
   ]
  },
  {
   "cell_type": "code",
   "execution_count": 5,
   "metadata": {},
   "outputs": [
    {
     "name": "stdout",
     "output_type": "stream",
     "text": [
      "P^100:\n",
      " [[0.11111111 0.16666667 0.16666667 0.27777778 0.05555556 0.11111111\n",
      "  0.11111111]\n",
      " [0.11111111 0.16666667 0.16666667 0.27777778 0.05555556 0.11111111\n",
      "  0.11111111]\n",
      " [0.11111111 0.16666667 0.16666667 0.27777778 0.05555556 0.11111111\n",
      "  0.11111111]\n",
      " [0.11111111 0.16666667 0.16666667 0.27777778 0.05555556 0.11111111\n",
      "  0.11111111]\n",
      " [0.11111111 0.16666667 0.16666667 0.27777778 0.05555556 0.11111111\n",
      "  0.11111111]\n",
      " [0.11111111 0.16666667 0.16666667 0.27777778 0.05555556 0.11111111\n",
      "  0.11111111]\n",
      " [0.11111111 0.16666667 0.16666667 0.27777778 0.05555556 0.11111111\n",
      "  0.11111111]]\n"
     ]
    }
   ],
   "source": [
    "print('P^100:\\n', matrix_power(Pij, 100))"
   ]
  },
  {
   "cell_type": "markdown",
   "metadata": {},
   "source": [
    "## P^n, if n = 200"
   ]
  },
  {
   "cell_type": "code",
   "execution_count": 6,
   "metadata": {},
   "outputs": [
    {
     "name": "stdout",
     "output_type": "stream",
     "text": [
      "P^200:\n",
      " [[0.11111111 0.16666667 0.16666667 0.27777778 0.05555556 0.11111111\n",
      "  0.11111111]\n",
      " [0.11111111 0.16666667 0.16666667 0.27777778 0.05555556 0.11111111\n",
      "  0.11111111]\n",
      " [0.11111111 0.16666667 0.16666667 0.27777778 0.05555556 0.11111111\n",
      "  0.11111111]\n",
      " [0.11111111 0.16666667 0.16666667 0.27777778 0.05555556 0.11111111\n",
      "  0.11111111]\n",
      " [0.11111111 0.16666667 0.16666667 0.27777778 0.05555556 0.11111111\n",
      "  0.11111111]\n",
      " [0.11111111 0.16666667 0.16666667 0.27777778 0.05555556 0.11111111\n",
      "  0.11111111]\n",
      " [0.11111111 0.16666667 0.16666667 0.27777778 0.05555556 0.11111111\n",
      "  0.11111111]]\n"
     ]
    }
   ],
   "source": [
    "print('P^200:\\n', matrix_power(Pij, 200))"
   ]
  },
  {
   "cell_type": "markdown",
   "metadata": {},
   "source": [
    "### So, as we can see, as n increases, P converges to a matrix that indicates the probability of being in one of the nodes of the graph after n steps."
   ]
  },
  {
   "cell_type": "markdown",
   "metadata": {},
   "source": [
    "# Exercise 4 -b)"
   ]
  },
  {
   "cell_type": "markdown",
   "metadata": {},
   "source": [
    "Read the graph"
   ]
  },
  {
   "cell_type": "code",
   "execution_count": 7,
   "metadata": {},
   "outputs": [],
   "source": [
    "G= nx.read_edgelist(\"../data/lesmis.txt\", create_using=nx.Graph, nodetype=int, data=(('weight',float),)) # Read the network\n",
    "G = G.to_undirected()\n",
    "G = nx.convert_node_labels_to_integers(G, first_label=0)\n",
    "nodes = nx.number_of_nodes(G)"
   ]
  },
  {
   "cell_type": "markdown",
   "metadata": {},
   "source": [
    "Calculate the matrix of distances D"
   ]
  },
  {
   "cell_type": "code",
   "execution_count": 8,
   "metadata": {},
   "outputs": [],
   "source": [
    "if nx.is_connected(G) == True:\n",
    "    D = [[0 for x in range(nodes)] for y in range(nodes)] # D is the matrix of distances\n",
    "    vl = []\n",
    "    for i in range(0,nodes):\n",
    "        for j in range(i+1, nodes):\n",
    "            if(i != j):\n",
    "                aux = nx.shortest_path(G,i,j)\n",
    "                dij = len(aux)-1\n",
    "                D[i][j] = dij\n",
    "                D[j][i] = dij\n",
    "                vl.append(dij)\n",
    "else: \n",
    "    print(\"The graph has more than one connected component\")"
   ]
  },
  {
   "cell_type": "markdown",
   "metadata": {},
   "source": [
    "## Printing the matrix D"
   ]
  },
  {
   "cell_type": "code",
   "execution_count": 9,
   "metadata": {},
   "outputs": [
    {
     "data": {
      "text/plain": [
       "'\\nfor i in range(nodes):\\n    for j in range(nodes):\\n        print(\"%3.4f\"%D[i,j], end=\" \")\\n    print(\"\")\\n'"
      ]
     },
     "execution_count": 9,
     "metadata": {},
     "output_type": "execute_result"
    }
   ],
   "source": [
    "D = np.array(D)\n",
    "'''\n",
    "for i in range(nodes):\n",
    "    for j in range(nodes):\n",
    "        print(\"%3.4f\"%D[i,j], end=\" \")\n",
    "    print(\"\")\n",
    "'''"
   ]
  },
  {
   "cell_type": "markdown",
   "metadata": {},
   "source": [
    "## Adjacency matrix and transition probability matrix"
   ]
  },
  {
   "cell_type": "code",
   "execution_count": 10,
   "metadata": {},
   "outputs": [],
   "source": [
    "A = nx.adjacency_matrix(G, weight=None)\n",
    "\n",
    "A = A.todense()"
   ]
  },
  {
   "cell_type": "markdown",
   "metadata": {},
   "source": [
    "A³ is calculated this way"
   ]
  },
  {
   "cell_type": "code",
   "execution_count": 11,
   "metadata": {},
   "outputs": [],
   "source": [
    "A3 = matrix_power(A, 3)"
   ]
  },
  {
   "cell_type": "markdown",
   "metadata": {},
   "source": [
    "Scatterplot of A³, Dij"
   ]
  },
  {
   "cell_type": "code",
   "execution_count": 12,
   "metadata": {},
   "outputs": [
    {
     "data": {
      "image/png": "[encoded data removed]",
      "text/plain": [
       "<Figure size 720x720 with 1 Axes>"
      ]
     },
     "metadata": {
      "needs_background": "light"
     },
     "output_type": "display_data"
    }
   ],
   "source": [
    "plt.figure(figsize=(10,10))\n",
    "plt.ylabel(\"A³\", fontsize = 20)\n",
    "plt.xlabel(\"Dij\", fontsize = 20)\n",
    "plt.grid(True)\n",
    "plt.plot(A3, D, 'ro')\n",
    "plt.show(block=False)"
   ]
  },
  {
   "cell_type": "markdown",
   "metadata": {},
   "source": [
    "# Exercise 4 -c)\n",
    " ## Pearson correlation"
   ]
  },
  {
   "cell_type": "code",
   "execution_count": 13,
   "metadata": {},
   "outputs": [
    {
     "data": {
      "image/png": "[encoded data removed]",
      "text/plain": [
       "<Figure size 1440x1008 with 1 Axes>"
      ]
     },
     "metadata": {
      "needs_background": "light"
     },
     "output_type": "display_data"
    }
   ],
   "source": [
    "def probability_matrix (A) :\n",
    "    N = A.shape[0]\n",
    "    P = np.zeros(shape=(N,N))\n",
    "    for i in np.arange(0,N):\n",
    "        for j in np.arange(0,N):\n",
    "            P[i][j] = A[i][j]/sum(A[i])\n",
    "    return P\n",
    "\n",
    "def pow_probability_matrix(P, n):\n",
    "    P_n = matrixMul(P, n)\n",
    "    return P_n\n",
    "\n",
    "def matrix_distance(G):\n",
    "    N = len(G)\n",
    "    G = nx.convert_node_labels_to_integers(G, first_label=0)\n",
    "    if nx.is_connected(G) == True:\n",
    "        D = np.zeros(shape=(N,N)) # D is the matrix of distances\n",
    "        vl = []\n",
    "        for i in np.arange(0,N):\n",
    "            for j in np.arange(i+1, N):\n",
    "                if(i != j):\n",
    "                    aux = nx.shortest_path(G,i,j)\n",
    "                    dij = len(aux)-1\n",
    "                    D[i][j] = dij\n",
    "                    D[j][i] = dij\n",
    "                    vl.append(dij)\n",
    "    return D\n",
    "\n",
    "def matrixMul(a, n):\n",
    "    if(n == 1):\n",
    "        return a\n",
    "    else:\n",
    "        tempArr = a;\n",
    "        for i in range(1, n-1):\n",
    "            tempArr = np.matmul(a, tempArr)\n",
    "    return tempArr\n",
    "\n",
    "\n",
    "A_lesmis = nx.adjacency_matrix(G).toarray()\n",
    "P_lesmis = probability_matrix(A_lesmis)\n",
    "D_lesmis = matrix_distance(G)\n",
    "D_lesmis.shape\n",
    "D_lesmis_aux = D_lesmis.flatten()\n",
    "vcoef = []\n",
    "i_list = []\n",
    "\n",
    "for i in np.arange(1, 20):\n",
    "    P_lesmis_aux = (pow_probability_matrix(P_lesmis, i)).flatten()\n",
    "    mcoef = np.corrcoef(D_lesmis_aux, P_lesmis_aux)\n",
    "    vcoef.append(mcoef[0][1])\n",
    "    i_list.append(i)\n",
    "    \n",
    "    \n",
    "plt.figure(figsize=(20, 14))\n",
    "plt.plot(i_list, vcoef, linewidth=2.5)  \n",
    "plt.grid(True)\n",
    "plt.show(block=True)"
   ]
  }
 ],
 "metadata": {
  "language_info": {
   "codemirror_mode": {
    "name": "ipython",
    "version": 3
   },
   "file_extension": ".py",
   "mimetype": "text/x-python",
   "name": "python",
   "nbconvert_exporter": "python",
   "pygments_lexer": "ipython3",
   "version": "3.6.8"
  }
 },
 "nbformat": 4,
 "nbformat_minor": 2
}
