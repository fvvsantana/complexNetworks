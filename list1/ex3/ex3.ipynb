{
 "cells": [
  {
   "cell_type": "markdown",
   "metadata": {},
   "source": [
    "# Exercise 3\n",
    " Import the libraries that we'll use"
   ]
  },
  {
   "cell_type": "code",
   "execution_count": null,
   "metadata": {},
   "outputs": [],
   "source": [
    "import networkx as nx\n",
    "import matplotlib.pyplot as plt\n",
    "import numpy as np\n",
    "import math\n",
    "from scipy.linalg import expm\n",
    "#import warnings\n",
    "#warnings.simplefilter(\"ignore\")\n",
    "np.random.seed(100)"
   ]
  },
  {
   "cell_type": "markdown",
   "metadata": {},
   "source": [
    "To read the network from a file, we use the command read_edgelist."
   ]
  },
  {
   "cell_type": "code",
   "execution_count": null,
   "metadata": {},
   "outputs": [],
   "source": [
    "G= nx.read_edgelist(\"../data/lesmis.txt\", nodetype=int, data=(('weight',float),))"
   ]
  },
  {
   "cell_type": "markdown",
   "metadata": {},
   "source": [
    "We transfor the network into the undirected version."
   ]
  },
  {
   "cell_type": "code",
   "execution_count": null,
   "metadata": {},
   "outputs": [],
   "source": [
    "G = G.to_undirected()"
   ]
  },
  {
   "cell_type": "markdown",
   "metadata": {},
   "source": [
    "Here we consider only the largest component."
   ]
  },
  {
   "cell_type": "code",
   "execution_count": null,
   "metadata": {},
   "outputs": [],
   "source": [
    "Gcc=sorted(nx.connected_component_subgraphs(G), key = len, reverse=True)\n",
    "G=Gcc[0]"
   ]
  },
  {
   "cell_type": "markdown",
   "metadata": {},
   "source": [
    "Sometimes the node labels are not in the sequential order or strings are used. To facilitate our implementation, let us convert the labels to integers starting with the index zero, because Python uses 0-based indexing."
   ]
  },
  {
   "cell_type": "code",
   "execution_count": null,
   "metadata": {},
   "outputs": [],
   "source": [
    "G = nx.convert_node_labels_to_integers(G, first_label=0)"
   ]
  },
  {
   "cell_type": "markdown",
   "metadata": {},
   "source": [
    "Let us verify the number of nodes and edges of the network."
   ]
  },
  {
   "cell_type": "code",
   "execution_count": null,
   "metadata": {},
   "outputs": [],
   "source": [
    "N = len(G)\n",
    "M = G.number_of_edges()\n",
    "print('Number of nodes:', N)\n",
    "print('Number of edges:', M)"
   ]
  },
  {
   "cell_type": "markdown",
   "metadata": {},
   "source": [
    "Plot the graph"
   ]
  },
  {
   "cell_type": "code",
   "execution_count": null,
   "metadata": {},
   "outputs": [],
   "source": [
    "plt.figure(figsize=(10,10))\n",
    "pos=nx.spring_layout(G)\n",
    "nx.draw(G, with_labels = True, pos = pos)\n",
    "plt.show(block=False)\n",
    "plt.clf()"
   ]
  },
  {
   "cell_type": "markdown",
   "metadata": {},
   "source": [
    "### Random Walk\n",
    " Random Walk Accessibility Function"
   ]
  },
  {
   "cell_type": "code",
   "execution_count": null,
   "metadata": {},
   "outputs": [],
   "source": [
    "def random_walk_accessibility(G):\n",
    "    N = len(G.nodes())\n",
    "    vk = dict(G.degree())\n",
    "    vk = list(vk.values())\n",
    "    A = nx.adjacency_matrix(G)\n",
    "    P = np.zeros((N,N), dtype = 'float')\n",
    "    for i in np.arange(0, N):\n",
    "        for j in np.arange(i, N):\n",
    "            P[i,j] = A[i,j]/vk[i]\n",
    "            P[j,i] = P[i,j]\n",
    "    P2 = expm(P)/np.exp(1)\n",
    "    vacc = np.zeros(N, dtype = float)\n",
    "    for i in np.arange(0, N):\n",
    "        acc = 0\n",
    "        for j in np.arange(0,N):\n",
    "            if(P2[i,j] > 0):\n",
    "                acc = acc + P2[i,j]*math.log(P2[i,j])\n",
    "        acc = np.exp(-acc)\n",
    "        vacc[i] = acc\n",
    "    return vacc"
   ]
  },
  {
   "cell_type": "markdown",
   "metadata": {},
   "source": [
    "Calculate the number of visits of a random walk"
   ]
  },
  {
   "cell_type": "code",
   "execution_count": null,
   "metadata": {},
   "outputs": [],
   "source": [
    "random_walk = random_walk_accessibility(G)"
   ]
  },
  {
   "cell_type": "markdown",
   "metadata": {},
   "source": [
    "### Degree\n",
    " Get the degree of all the nodes in a list"
   ]
  },
  {
   "cell_type": "code",
   "execution_count": null,
   "metadata": {},
   "outputs": [],
   "source": [
    "degrees = dict(G.degree())\n",
    "degrees = list(degrees.values())  # we get only the degree values\n",
    "degrees = np.array(degrees)"
   ]
  },
  {
   "cell_type": "markdown",
   "metadata": {},
   "source": [
    "To see the correlation of the random walk and the degree of the nodes, we plot it"
   ]
  },
  {
   "cell_type": "code",
   "execution_count": null,
   "metadata": {},
   "outputs": [],
   "source": [
    "fig = plt.subplot(1,1,1)\n",
    "fig.set_xscale('log')\n",
    "fig.set_yscale('log')\n",
    "plt.plot(degrees,random_walk,'bo')\n",
    "plt.xlabel(\"Degree\", fontsize=20)\n",
    "plt.ylabel(\"Random Walk\", fontsize=20)\n",
    "plt.title(\"Degree X Random Walk\", fontsize=20)\n",
    "plt.show(block=False)\n",
    "plt.clf()"
   ]
  },
  {
   "cell_type": "markdown",
   "metadata": {},
   "source": [
    "As we can see, the correlation is really small."
   ]
  },
  {
   "cell_type": "markdown",
   "metadata": {},
   "source": [
    "### Pearson correlation coefficient\n",
    " We can also calculate the Pearson correlation coefficient"
   ]
  },
  {
   "cell_type": "code",
   "execution_count": null,
   "metadata": {},
   "outputs": [],
   "source": [
    "print('Pearson correlation coefficient:', np.corrcoef(degrees, random_walk)[0,1])"
   ]
  },
  {
   "cell_type": "markdown",
   "metadata": {},
   "source": [
    "*According to the Cauchy–Schwarz inequality it has a value between +1 and −1, where 1 is total positive linear correlation, 0 is no linear correlation, and −1 is total negative linear correlation.* - [Wikipedia](https://en.wikipedia.org/wiki/Pearson_correlation_coefficient)"
   ]
  },
  {
   "cell_type": "markdown",
   "metadata": {},
   "source": [
    "Because the Pearson correlation coefficient is close to zero, we can state that there is no linear correlation between the random walk result and the degrees of the nodes in this graph."
   ]
  }
 ],
 "metadata": {},
 "nbformat": 4,
 "nbformat_minor": 2
}
