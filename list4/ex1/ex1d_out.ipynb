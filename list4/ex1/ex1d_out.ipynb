{
 "cells": [
  {
   "cell_type": "markdown",
   "metadata": {},
   "source": [
    "# Exercise 1 d)\n",
    " Import the libraries that we'll use"
   ]
  },
  {
   "cell_type": "code",
   "execution_count": 1,
   "metadata": {},
   "outputs": [],
   "source": [
    "from numpy  import *\n",
    "import numpy as np\n",
    "import matplotlib.pyplot as plt\n",
    "import networkx as nx\n",
    "from IPython.display import display, HTML, display_pretty\n",
    "from networkx.algorithms.community import LFR_benchmark_graph\n",
    "np.random.seed(101)\n",
    "\n",
    "# Read graph from file and apply transformations\n",
    "def read_graph(inputFile):\n",
    "    # To read the network from a file, we use the command read_edgelist.\n",
    "    G= nx.read_edgelist(inputFile, comments='%', nodetype=int, data=(('weight',float),))\n",
    "    # We transfor the network into the undirected version.\n",
    "    G = G.to_undirected()\n",
    "    # Here we consider only the largest component.\n",
    "    Gcc=sorted(nx.connected_component_subgraphs(G), key = len, reverse=True)\n",
    "    G=Gcc[0]\n",
    "    # Sometimes the node labels are not in the sequential order or strings are used. To facilitate our implementation, let us convert the labels to integers starting with the index zero, because Python uses 0-based indexing.\n",
    "    G = nx.convert_node_labels_to_integers(G, first_label=0)\n",
    "    # Save graph to the network\n",
    "    return G\n",
    "\n",
    "# Read graph from file and apply transformations\n",
    "def read_graphCElegans(inputFile):\n",
    "    # To read the network from a file, we use the command read_edgelist.\n",
    "    G= nx.read_edgelist(inputFile, comments='#', nodetype=str, data=(('weight',float),))\n",
    "    # We transfor the network into the undirected version.\n",
    "    G = G.to_undirected()\n",
    "    # Here we consider only the largest component.\n",
    "    Gcc=sorted(nx.connected_component_subgraphs(G), key = len, reverse=True)\n",
    "    G=Gcc[0]\n",
    "    # Sometimes the node labels are not in the sequential order or strings are used. To facilitate our implementation, let us convert the labels to integers starting with the index zero, because Python uses 0-based indexing.\n",
    "    G = nx.convert_node_labels_to_integers(G, first_label=0)\n",
    "    # Save graph to the network\n",
    "    return G\n",
    "\n",
    "# Read graph from file and apply transformations\n",
    "def read_graphCsv(inputFile):\n",
    "    # To read the network from a file, we use the command read_edgelist.\n",
    "    G= nx.read_edgelist(inputFile, comments='#', delimiter=',', nodetype=str, data=(('weight',float),))\n",
    "    # We transfor the network into the undirected version.\n",
    "    G = G.to_undirected()\n",
    "    # Here we consider only the largest component.\n",
    "    Gcc=sorted(nx.connected_component_subgraphs(G), key = len, reverse=True)\n",
    "    G=Gcc[0]\n",
    "    # Sometimes the node labels are not in the sequential order or strings are used. To facilitate our implementation, let us convert the labels to integers starting with the index zero, because Python uses 0-based indexing.\n",
    "    G = nx.convert_node_labels_to_integers(G, first_label=0)\n",
    "    # Save graph to the network\n",
    "    return G"
   ]
  },
  {
   "cell_type": "markdown",
   "metadata": {},
   "source": [
    "## Benchmark function"
   ]
  },
  {
   "cell_type": "code",
   "execution_count": 2,
   "metadata": {},
   "outputs": [],
   "source": [
    "# Generate a graph for girvan newman benchmark\n",
    "def benchmark_girvan_newman(N, mu):\n",
    "    #N = 128\n",
    "    tau1 = 3\n",
    "    tau2 = 1.5\n",
    "    #mu = 0.04\n",
    "    k =16\n",
    "    minc = 32\n",
    "    maxc = 32\n",
    "    return LFR_benchmark_graph(n = N, tau1 = tau1, tau2 = tau2, mu = mu, min_degree = k,\n",
    "                            max_degree = k, min_community=minc, max_community = maxc, seed = 42)"
   ]
  },
  {
   "cell_type": "markdown",
   "metadata": {},
   "source": [
    "Write all the functions that we'll need\n",
    "\n",
    " For failure simulation"
   ]
  },
  {
   "cell_type": "code",
   "execution_count": 3,
   "metadata": {},
   "outputs": [],
   "source": [
    "def failures(H):\n",
    "    '''\n",
    "     Simulate failures in the graph H.\n",
    "     Return S = list with size of largest component. This is a fraction of the total\n",
    "     number of nodes\n",
    "     Return vn = list with fraction of removed nodes\n",
    "    '''\n",
    "\n",
    "    G = H.copy()\n",
    "    from random import choice\n",
    "    N0 = len(G)\n",
    "    minComponentSize = int(0.01*N0)\n",
    "    if minComponentSize < 1:\n",
    "        minComponentSize = 1\n",
    "    vn = []\n",
    "    S = []\n",
    "    n = 0 #number of nodes removed\n",
    "    while(len(G.nodes()) > minComponentSize):\n",
    "        #print('Removing... n = ', n)\n",
    "        #print(G.nodes)\n",
    "        node = random.choice(G.nodes()) #select the node on the largest component\n",
    "        #print('selected to removed:', node)\n",
    "        G.remove_node(node)\n",
    "        Gcc=sorted(nx.connected_component_subgraphs(G), key = len, reverse=True)\n",
    "        Glc=Gcc[0]\n",
    "        S.append(len(Glc)/N0) #store the size of the largest component\n",
    "        n = n + 1\n",
    "        vn.append(n/N0)\n",
    "\n",
    "    return S, vn\n",
    "\n",
    "def most_connected(G): # This function is used to find the most connected node\n",
    "    maxk = 0\n",
    "    node = 0\n",
    "    for i in G.nodes():\n",
    "        if(G.degree(i) >= maxk):\n",
    "            maxk = G.degree(i)\n",
    "            node = i\n",
    "    return node"
   ]
  },
  {
   "cell_type": "markdown",
   "metadata": {},
   "source": [
    "For attack simulation"
   ]
  },
  {
   "cell_type": "code",
   "execution_count": 4,
   "metadata": {},
   "outputs": [],
   "source": [
    "def attacks(H):\n",
    "    '''\n",
    "     Simulate attacks in the graph H.\n",
    "     Return S = list with size of largest component. This is a fraction of the total\n",
    "     number of nodes\n",
    "     Return vn = list with fraction of removed nodes\n",
    "    '''\n",
    "    G = H.copy()\n",
    "    from random import choice\n",
    "    N0 = len(G)\n",
    "    minComponentSize = int(0.01*N0)\n",
    "    if minComponentSize < 1:\n",
    "        minComponentSize = 1\n",
    "    vn = []\n",
    "    S = []\n",
    "    n = 0 #number of nodes removed\n",
    "    while(len(G.nodes()) > minComponentSize):\n",
    "        #print('Removing... n = ', n)\n",
    "        #print(G.nodes)\n",
    "        node = most_connected(G) #select the most connected node on the largest component\n",
    "        #print('selected to removed:', node)\n",
    "        G.remove_node(node)\n",
    "        Gcc=sorted(nx.connected_component_subgraphs(G), key = len, reverse=True)\n",
    "        Glc=Gcc[0]\n",
    "        S.append(len(Glc)/N0) #store the size of the largest component\n",
    "        n = n + 1\n",
    "        vn.append(n/N0)\n",
    "    return S, vn\n",
    "\n",
    "\n",
    "def fcritical(G):\n",
    "    '''\n",
    "        Calculate critical fraction of nodes that needs to be removed in order to\n",
    "        break an heterogeneous network G.\n",
    "    '''\n",
    "    def momment_of_degree_distribution2(G,m):\n",
    "        M = 0\n",
    "        N = len(G)\n",
    "        for i in G.nodes():\n",
    "            M = M + G.degree(i)**m\n",
    "        M = M/N\n",
    "        return M\n",
    "    f = 1 - 1/(momment_of_degree_distribution2(G,2)/momment_of_degree_distribution2(G,1) - 1)\n",
    "    return f"
   ]
  },
  {
   "cell_type": "markdown",
   "metadata": {},
   "source": [
    "Here is the action"
   ]
  },
  {
   "cell_type": "code",
   "execution_count": 5,
   "metadata": {},
   "outputs": [],
   "source": [
    "def main():\n",
    "    nNodes = 128\n",
    "    # Create a list with the networks\n",
    "    networks = []\n",
    "    networks.append(benchmark_girvan_newman(nNodes, 0.1))\n",
    "    networks[-1].name = 'mu = 0.1'\n",
    "    networks.append(benchmark_girvan_newman(nNodes, 0.3))\n",
    "    networks[-1].name = 'mu = 0.3'\n",
    "    networks.append(benchmark_girvan_newman(nNodes, 0.5))\n",
    "    networks[-1].name = 'mu = 0.5'\n",
    "\n",
    "    # Calculate the response to failures of all the networks inside list networks\n",
    "    results = []\n",
    "    currentNetworkSimulations = []\n",
    "    nSimulations = 1\n",
    "    removedNodes = None\n",
    "    for i in range(len(networks)):\n",
    "        # Do simulations and append them to currentNetworkSimulations\n",
    "        for j in range(nSimulations):\n",
    "            if (i == 0) and (j == 0):\n",
    "                componentSize, removedNodes = failures(networks[i])\n",
    "            else:\n",
    "                componentSize, _ = failures(networks[i])\n",
    "            currentNetworkSimulations.append(componentSize)\n",
    "\n",
    "\n",
    "        # Calculate the average of the simulations\n",
    "        averageOfSimulations = []\n",
    "        for j in range(len(currentNetworkSimulations[0])):\n",
    "            partialSum = 0\n",
    "            for simulation in currentNetworkSimulations:\n",
    "                partialSum += simulation[j]\n",
    "            #print(partialSum/len(currentNetworkSimulations))\n",
    "            averageOfSimulations.append(partialSum/len(currentNetworkSimulations))\n",
    "\n",
    "        # Append averageOfSimulations to results\n",
    "        results.append(averageOfSimulations)\n",
    "\n",
    "        # Clear list\n",
    "        currentNetworkSimulations.clear()\n",
    "\n",
    "    # Plot failure simulation\n",
    "    plt.figure()\n",
    "    # Plot all results of simulation\n",
    "    for i in range(len(results)):\n",
    "        plt.plot(removedNodes, results[i], '-o', label=networks[i].name)\n",
    "    plt.title('Failure Comparison')\n",
    "    plt.legend()\n",
    "    plt.xlabel(\"f\", fontsize=20)\n",
    "    plt.ylabel(\"S\", fontsize=20)\n",
    "    plt.grid(True)\n",
    "    # Save figure\n",
    "    plt.savefig('lastPlotEx1cFailure.png')\n",
    "    plt.show(block=True);\n",
    "\n",
    "    # Calculate the response to attacks of all the networks inside list networks\n",
    "    results = []\n",
    "    currentNetworkSimulations = []\n",
    "    nSimulations = 1\n",
    "    removedNodes = None\n",
    "    for i in range(len(networks)):\n",
    "        # Do simulations and append them to currentNetworkSimulations\n",
    "        for j in range(nSimulations):\n",
    "            if (i == 0) and (j == 0):\n",
    "                componentSize, removedNodes = attacks(networks[i])\n",
    "            else:\n",
    "                componentSize, _ = attacks(networks[i])\n",
    "            currentNetworkSimulations.append(componentSize)\n",
    "\n",
    "\n",
    "        # Calculate the average of the simulations\n",
    "        averageOfSimulations = []\n",
    "        for j in range(len(currentNetworkSimulations[0])):\n",
    "            partialSum = 0\n",
    "            for simulation in currentNetworkSimulations:\n",
    "                partialSum += simulation[j]\n",
    "            #print(partialSum/len(currentNetworkSimulations))\n",
    "            averageOfSimulations.append(partialSum/len(currentNetworkSimulations))\n",
    "\n",
    "        # Append averageOfSimulations to results\n",
    "        results.append(averageOfSimulations)\n",
    "\n",
    "        # Clear list\n",
    "        currentNetworkSimulations.clear()\n",
    "\n",
    "    # Plot attack simulation\n",
    "    plt.figure()\n",
    "    # Plot all results of simulation\n",
    "    for i in range(len(results)):\n",
    "        plt.plot(removedNodes, results[i], '-o', label=networks[i].name)\n",
    "    plt.title('Attack Comparison')\n",
    "    plt.legend()\n",
    "    plt.xlabel(\"f\", fontsize=20)\n",
    "    plt.ylabel(\"S\", fontsize=20)\n",
    "    plt.grid(True)\n",
    "    # Save figure\n",
    "    plt.savefig('lastPlotEx1cAttack.png')\n",
    "    plt.show(block=True);"
   ]
  },
  {
   "cell_type": "markdown",
   "metadata": {},
   "source": [
    "Call main"
   ]
  },
  {
   "cell_type": "code",
   "execution_count": 6,
   "metadata": {},
   "outputs": [
    {
     "data": {
      "image/png": "[encoded data removed]",
      "text/plain": [
       "<Figure size 432x288 with 1 Axes>"
      ]
     },
     "metadata": {
      "needs_background": "light"
     },
     "output_type": "display_data"
    },
    {
     "data": {
      "image/png": "[encoded data removed]",
      "text/plain": [
       "<Figure size 432x288 with 1 Axes>"
      ]
     },
     "metadata": {
      "needs_background": "light"
     },
     "output_type": "display_data"
    }
   ],
   "source": [
    "if __name__ == \"__main__\":\n",
    "    main()"
   ]
  },
  {
   "cell_type": "markdown",
   "metadata": {},
   "source": [
    "Analyzing the charts we cannot see relevant difference among the robustness of the different networks against attacks or failure. So, considering our experiment, we can say that in that case, the existance of communities didn't affect robustness considerably."
   ]
  }
 ],
 "metadata": {
  "language_info": {
   "codemirror_mode": {
    "name": "ipython",
    "version": 3
   },
   "file_extension": ".py",
   "mimetype": "text/x-python",
   "name": "python",
   "nbconvert_exporter": "python",
   "pygments_lexer": "ipython3",
   "version": "3.6.9"
  }
 },
 "nbformat": 4,
 "nbformat_minor": 2
}
