{
 "cells": [
  {
   "cell_type": "markdown",
   "metadata": {},
   "source": [
    "# Exercise 2 b)\n",
    " Import the libraries that we'll use"
   ]
  },
  {
   "cell_type": "code",
   "execution_count": null,
   "metadata": {},
   "outputs": [],
   "source": [
    "from numpy  import *\n",
    "import numpy as np\n",
    "import matplotlib.pyplot as plt\n",
    "import networkx as nx\n",
    "import random as random\n",
    "random.seed(100)"
   ]
  },
  {
   "cell_type": "markdown",
   "metadata": {},
   "source": [
    "Write all the functions that we'll need"
   ]
  },
  {
   "cell_type": "code",
   "execution_count": null,
   "metadata": {},
   "outputs": [],
   "source": [
    "def find(v, i): # function to find the positions of an element in a vector\n",
    "    l = []\n",
    "    pos = 0\n",
    "    for x in v:\n",
    "        if(x == i):\n",
    "            l.append(pos)\n",
    "        pos = pos + 1\n",
    "    return l\n",
    "def momment_of_degree_distribution(G,m):\n",
    "    M = 0\n",
    "    N = len(G)\n",
    "    for i in G.nodes():\n",
    "        M = M + G.degree(i)**m\n",
    "    M = M/N\n",
    "    return M"
   ]
  },
  {
   "cell_type": "markdown",
   "metadata": {},
   "source": [
    "Here is the action"
   ]
  },
  {
   "cell_type": "code",
   "execution_count": null,
   "metadata": {},
   "outputs": [],
   "source": [
    "def main():\n",
    "    # Arguments to create the network\n",
    "    N = 30 #number of nodes\n",
    "    av_degree = 8 # average degree\n",
    "    p = float(av_degree)/float(N) #probability of connection in the ER model\n",
    "    m = int(av_degree/2) # number of added nodes in the BA model\n",
    "    kappa = av_degree # number of neighbors in the WS model\n",
    "    networkSeed = 50\n",
    "\n",
    "    # Create a list with the networks\n",
    "    networks = []\n",
    "    networks.append(nx.gnp_random_graph(N, p, seed=networkSeed, directed=False))\n",
    "    networks[-1].name = 'ER'\n",
    "    networks.append(nx.barabasi_albert_graph(N, m, seed=networkSeed))\n",
    "    networks[-1].name = 'BA'\n",
    "    networks.append(nx.watts_strogatz_graph(N, av_degree, 0.001, seed=networkSeed))\n",
    "    networks[-1].name = 'WS0.001'\n",
    "    networks.append(nx.watts_strogatz_graph(N, av_degree, 0.01, seed=networkSeed))\n",
    "    networks[-1].name = 'WS0.01'\n",
    "    networks.append(nx.watts_strogatz_graph(N, av_degree, 0.1, seed=networkSeed))\n",
    "    networks[-1].name = 'WS0.1'\n",
    "\n",
    "    plt.figure()\n",
    "    for G in networks:\n",
    "        mu = 1  # Probability of recover\n",
    "        vlbda = list()\n",
    "        rhoI = list() # vector that stores the fraction of infected nodes according to the parameter lambda\n",
    "        for lbd in arange(0,1, 0.05):\n",
    "            beta = lbd*mu\n",
    "            #Reactive process: SIR dynamics\n",
    "            Tmax = 20 #maximum number of steps\n",
    "            av_rho = np.zeros(Tmax)\n",
    "            for seed_node in G.nodes():\n",
    "                vector_states = np.zeros(N) # vector that stores the states of the vertices\n",
    "                vector_states[seed_node] = 1 # vector that stores the states\n",
    "                ninfected = 1\n",
    "                infected = list() # Stores the number of infected nodes at each time step\n",
    "                vrho = list()\n",
    "                # Reactive model\n",
    "                for t in arange(0, Tmax): # Simulate until a maximum number of steps Tmax\n",
    "                    infected = find(vector_states,1) # list of infected nodes\n",
    "                    for i in infected: # try to infect the neighbors\n",
    "                        neigs = G.neighbors(i)\n",
    "                        for j in neigs:\n",
    "                            if np.random.rand() < beta:\n",
    "                                vector_states[j] = 1\n",
    "                    for k in infected: # try to recover the infected nodes\n",
    "                        if np.random.rand() < mu:\n",
    "                            vector_states[k] = 0\n",
    "                    ninfected = len(find(vector_states,1))\n",
    "                    vrho.append(ninfected/N)\n",
    "                for x in arange(0, len(vrho)):\n",
    "                    av_rho[x] = av_rho[x] + vrho[x]\n",
    "            av_rho = av_rho/len(G.nodes())\n",
    "            rhoI.append(mean(av_rho[arange(int(0.8*Tmax), Tmax)]))\n",
    "            vlbda.append(lbd)\n",
    "            #print(lbd, mean(av_rho[arange(int(0.8*Tmax), Tmax)]))\n",
    "        plt.plot(vlbda, rhoI, 'o-', label=G.name)\n",
    "\n",
    "    plt.title('Comparison')\n",
    "    plt.xlabel(\"lambda\", fontsize=15)\n",
    "    plt.ylabel(\"Fraction of infected nodes\", fontsize=15)\n",
    "    #lambda_c = momment_of_degree_distribution(G,1)/momment_of_degree_distribution(G,2)\n",
    "    lambda_c = momment_of_degree_distribution(networks[0],1)/momment_of_degree_distribution(networks[0],2)\n",
    "    plt.axvline(lambda_c, color = 'b', label='Theoretical lambda_c')\n",
    "    plt.legend()\n",
    "    plt.grid(True)\n",
    "    plt.show(block=True)"
   ]
  },
  {
   "cell_type": "markdown",
   "metadata": {},
   "source": [
    "Call main"
   ]
  },
  {
   "cell_type": "code",
   "execution_count": null,
   "metadata": {},
   "outputs": [],
   "source": [
    "if __name__ == '__main__':\n",
    "    main()"
   ]
  },
  {
   "cell_type": "markdown",
   "metadata": {},
   "source": [
    "Analyzing the chart we can see that the curves are very similar. There is a small difference between BA network and the other networks, that it seems to be more resilient to infections in the SIS model that the other networks."
   ]
  }
 ],
 "metadata": {},
 "nbformat": 4,
 "nbformat_minor": 2
}
